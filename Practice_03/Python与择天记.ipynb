{
 "cells": [
  {
   "cell_type": "markdown",
   "metadata": {},
   "source": [
    "# 《择天记》与自然语言处理\n",
    "\n",
    "> 本文的灵感来源于李金同学的一篇关于金庸武侠小说的自然语言处理的文章，大家有兴趣可以在`GitHub`上关注他。[地址](https://github.com/lijin-THU)"
   ]
  },
  {
   "cell_type": "markdown",
   "metadata": {},
   "source": [
    "## 02 前言\n",
    "\n",
    "在上一篇文章中，我们使用Python来收集网络数据。这个可以复用的Python小程序，可以抓取任意电影的海报以及剧照。当你想要找一张**《加勒比海盗5》**的电影海报作为电脑桌面的时候，这个小程序就可以轻松帮到你了！[上一篇文章的链接](https://mp.weixin.qq.com/s?__biz=MzI0NDYzODE1Nw==&mid=2247484561&idx=1&sn=371e48d4fc56fb4edbcf94aa0c16f58d&chksm=e95b8c33de2c052505e75b8460c761850baf7c2988c0d2019231b0f2053d321fd006582baaaa#rd)\n",
    "\n",
    "你可能还是没有下定决心学习Python，那么今天的教程将和大家一起用Python做一点有趣的事情。相信大家可以在这个小项目中体验到Python的强大！\n",
    "\n",
    "## 03 Python与择天记\n",
    "\n",
    "我们将在今天用Python来分析一本热门的网络小说《择天记》，在这个项目中，我们可以做到以下几件很有意思的事：\n",
    "\n",
    "1. 用Python分析出《择天记》小说中实力境界的划分体系\n",
    "2. 用Python找出《择天记》中的情侣\n",
    "3. 用Python分析出《择天记》中的大人物\n",
    "4. 用Python分析猫腻(择天记的作者)的写作风格\n",
    "5. .....\n",
    "\n",
    "## 04 开始分析\n",
    "\n",
    "### 04.01 读取小说文本\n",
    "\n",
    "先在网络上下载一本择天记小说的txt版本，保存在项目目录中。我下载的小说保存下来就是*64565.txt*。使用Python读取整个文本，并构建列表。"
   ]
  },
  {
   "cell_type": "code",
   "execution_count": 17,
   "metadata": {},
   "outputs": [
    {
     "name": "stdout",
     "output_type": "stream",
     "text": [
      "那名叫霜儿的丫环，看着他认真说道：“以后，再也不要说这句话。”\n",
      "“为什么？”陈长生认真反问道。\n"
     ]
    }
   ],
   "source": [
    "# 读取择天记小说\n",
    "with open('64565.txt',encoding='utf-8') as f:\n",
    "    cont = [line.strip() for line in f.readlines() if line.strip()]\n",
    "\n",
    "# 尝试在控制台打印一段文本\n",
    "for line in cont[105:107]:\n",
    "    print(line)"
   ]
  },
  {
   "cell_type": "markdown",
   "metadata": {},
   "source": [
    "### 04.02 统计《择天记》人物出场次数\n",
    "\n",
    "我们需要收集在择天记中出现的人物姓名，以便统计人物的出场次数。主要人物的姓名抓了《择天记》百度百科中的人物列表，保存成了TXT文本，名为*names.txt*。"
   ]
  },
  {
   "cell_type": "code",
   "execution_count": 3,
   "metadata": {},
   "outputs": [
    {
     "name": "stdout",
     "output_type": "stream",
     "text": [
      "['陈长生', '徐有容', '唐三十六', '唐棠', '莫雨', '寅行道', '天海圣后', '梅里砂', '王之策', '计道人', '商行舟', '尘儿', '余人', '陈留王', '相王', '中山王', '娄阳王', '天海承武', '天海胜雪', '平国公主', '徐世绩', '薛醒川', '周通', '苏墨虞', '庄换羽', '霜儿', '王破', '肖张', '梁王孙', '荀梅', '唐家二爷', '关白', '别天心', '凌海之王', '司源道人', '桉琳', '白石道人', '茅秋雨', '庄之涣', '安华', '陈酬', '陈观松', '费典', '薛河', '梁红妆', '秋山君', '苟寒食', '梁笑晓', '关飞白', '梁半湖', '白菜', '苏离', '小松宫', '南方圣女', '叶小涟', '钟会', '落落', '折袖', '轩辕破', '金玉律', '白行夜', '小德', '魔君', '尼禄', '南客', '汗青', '黑袍', '魔帅', '陈玄霸', '周独夫', '先帝', '太宗', '太祖', '天机老人', '朱洛', '无穷碧']\n"
     ]
    }
   ],
   "source": [
    "#读取人物名字\n",
    "with open('names.txt') as f:\n",
    "    names = [name.strip() for name in f.readlines()]\n",
    "\n",
    "print(names)"
   ]
  },
  {
   "cell_type": "code",
   "execution_count": 4,
   "metadata": {},
   "outputs": [
    {
     "data": {
      "text/plain": [
       "[['陈长生', 15673],\n",
       " ['唐三十六', 3609],\n",
       " ['徐有容', 3262],\n",
       " ['苏离', 1889],\n",
       " ['落落', 1877],\n",
       " ['折袖', 1656],\n",
       " ['苟寒食', 1183],\n",
       " ['轩辕破', 1158],\n",
       " ['魔君', 1146],\n",
       " ['王破', 1134]]"
      ]
     },
     "execution_count": 4,
     "metadata": {},
     "output_type": "execute_result"
    }
   ],
   "source": [
    "# 统计人物出场次数\n",
    "\n",
    "def find_main_charecters(num = 10):\n",
    "    novel = ''.join(cont)\n",
    "    count = []\n",
    "    for name in names:\n",
    "        count.append([name,novel.count(name)])\n",
    "    count.sort(key = lambda v : v[1],reverse=True)\n",
    "    return count[:num]\n",
    "\n",
    "find_main_charecters()"
   ]
  },
  {
   "cell_type": "markdown",
   "metadata": {},
   "source": [
    "我们使用echarts做数据可视化的工作"
   ]
  },
  {
   "cell_type": "code",
   "execution_count": 4,
   "metadata": {
    "collapsed": true
   },
   "outputs": [],
   "source": [
    "from IPython.display import HTML\n",
    "\n",
    "chart_header_html = \"\"\"\n",
    "<div id=\"main_charecters\" style=\"width: 800px;height: 600px;\" class=\"chart\"></div>\n",
    "<script>\n",
    "    require.config({\n",
    "         paths:{\n",
    "            echarts: '//cdn.bootcss.com/echarts/3.2.3/echarts.min',\n",
    "         }\n",
    "    });\n",
    "    require(['echarts'],function(ec){\n",
    "    var charectersNames = ['陈长生', '唐三十六', '徐有容', '苏离', '落落', '折袖', '苟寒食', '轩辕破', '魔君', '王破', '商行舟', '周通', '南客', '莫雨', '秋山君', '黑袍', '天海圣后', '王之策', '朱洛', '肖张']\n",
    "\tvar charectersCount = [15673, 3609, 3262, 1889, 1877, 1656, 1183, 1158, 1146, 1134, 1110, 945, 874, 746, 624, 589, 554, 532, 513, 476]\n",
    "\n",
    "\tvar charectersCountChart = ec.init(document.getElementById('main_charecters'))\n",
    "\n",
    "\tcharectersCountChart.setOption({\n",
    "\t\ttitle:{\n",
    "\t\t\ttext: '择天记人物出场次数统计图'\n",
    "\t\t},\n",
    "\t\ttooltip:{},\n",
    "\t\txAxis:{\n",
    "\t\t\ttype: 'value',\n",
    "\t\t\tdata: ['出场次数']\n",
    "\t\t},\n",
    "\t\tyAxis:{\n",
    "\t\t\ttype: 'category',\n",
    "\t\t\tdata: charectersNames.reverse()\n",
    "\t\t},\n",
    "\t\tseries:{\n",
    "\t\t\tname: '主要人物',\n",
    "\t\t\ttype: 'bar',\n",
    "\t\t\tdata: charectersCount.reverse()\n",
    "\t\t}\n",
    "\t})\n",
    "});\n",
    "</script>\n",
    "\"\"\"\n",
    "\n",
    "# 我本地的浏览器可以渲染出来，放到git上就不行了...所以拿图片代替了"
   ]
  },
  {
   "cell_type": "markdown",
   "metadata": {},
   "source": [
    "![](https://course.zhiliaoxuexi.com/zt_data.png)"
   ]
  },
  {
   "cell_type": "markdown",
   "metadata": {},
   "source": [
    "我们可以清楚的看到，《择天记》的主角为陈长生共出场接近16000次，紧随其后的是唐三十六（男性）和徐有容（有容奶大是女性）。仅从这个简单的数据，我们就可以推测**唐三十六是主角陈长生的好基友**，**徐有容很有可能和陈长生是恋人关系**。\n",
    "\n",
    "另外，我们看到其他出场率比较相似的人物中，女性角色明显不多。我们可以大致推断《择天记》这本小说是一个**单女主的小说**。更进一步的说，**徐有容和陈长生在整部小说中可能都很专情**。\n",
    "\n",
    "出场次数前20的人物中，可以看出一个明显的规律——**主要人物的人名都非常奇葩**，一看就不是普通人能叫的名字！在现实生活中不可能有人叫**唐三十六**，**折袖**，**苟寒食**，**商行舟**，**南客**这样的名字。所以，《择天记》的**作者多半是一个很中二的人**。\n",
    "\n",
    "另外还有一个有趣的事情，就是这些人物的姓氏明显都不相同，只有**王之策**和**王破**都姓王。这一点我们可以推断，《择天记》中的故事很有可能不是关于家族之间的纷争，或者说着墨不多。我们看到**魔君**的出场次数达到700多次，这种名字一看就是反派，无一例外。\n",
    "\n",
    "#### 第一部分的结论\n",
    "\n",
    "- 《择天记》男主**陈长生**，男配**唐三十六**，女主**徐有容**\n",
    "- 《择天记》是单女主的小说，男主女主在整部小说中可能都很专情。\n",
    "- 《择天记》的**作者大概率是一个很中二的人**\n",
    "- 《择天记》中的故事很有可能不是关于家族之间的纷争\n",
    "- 《择天记》中的反派BOSS可能叫做**魔君**\n",
    "\n",
    "### 04.03 《择天记》与自然语言处理\n",
    "\n",
    "统计人物出场次数显然是Python中最最基础的操作，那我们现在来使用更高级的算法来尝试分析《择天记》这本小说。\n",
    "\n",
    "我们使用`gensim`库对《择天记》进行 `Word2Vec` 的操作，这种操作可以将小说中的词映射到向量空间中，从而分析出不同词汇之间的关系。另外值得一提的是，由于中文和英文不同，中文词语之间没有空格，所以我们需要使用Python第三方库结巴分词对文本进行分词。我们为了提高分词的准确性，我们需要将小说中一些专属名词添加到词库中。\n",
    "\n",
    "#### 中文分词"
   ]
  },
  {
   "cell_type": "code",
   "execution_count": 8,
   "metadata": {},
   "outputs": [
    {
     "name": "stdout",
     "output_type": "stream",
     "text": [
      "人族\n",
      "魔族\n",
      "秀灵族\n",
      "犍兽\n",
      "土狲\n",
      "黄金巨龙\n",
      "玄霜巨龙\n",
      "神圣巨龙\n",
      "妖族\n",
      "中土大陆\n"
     ]
    }
   ],
   "source": [
    "import jieba\n",
    "\n",
    "# 读取门派、境界、招式等名词\n",
    "with open('novelitems.txt') as f:\n",
    "    items = [item.strip() for item in f.readlines()]\n",
    "\n",
    "for i in items[10:20]:\n",
    "    print(i)"
   ]
  },
  {
   "cell_type": "markdown",
   "metadata": {},
   "source": [
    "我们需要将这些名词添加到结巴分词的词库中。"
   ]
  },
  {
   "cell_type": "code",
   "execution_count": 10,
   "metadata": {
    "scrolled": true
   },
   "outputs": [
    {
     "name": "stderr",
     "output_type": "stream",
     "text": [
      "Building prefix dict from the default dictionary ...\n",
      "Loading model from cache C:\\Users\\ADMINI~1\\AppData\\Local\\Temp\\jieba.cache\n",
      "Loading model cost 0.846 seconds.\n",
      "Prefix dict has been built succesfully.\n"
     ]
    }
   ],
   "source": [
    "for name in names:\n",
    "    jieba.add_word(name)\n",
    "\n",
    "for item in items:\n",
    "    jieba.add_word(item)"
   ]
  },
  {
   "cell_type": "markdown",
   "metadata": {},
   "source": [
    "我们现在就可以开始使用机器学习来训练模型了。"
   ]
  },
  {
   "cell_type": "code",
   "execution_count": 33,
   "metadata": {},
   "outputs": [
    {
     "data": {
      "text/plain": [
       "['“', '那', '少年', '是', '个', '什么样', '的', '人', '？', '”']"
      ]
     },
     "execution_count": 33,
     "metadata": {},
     "output_type": "execute_result"
    }
   ],
   "source": [
    "novel_sentences = []\n",
    "\n",
    "# 对小说进行分词,这里只是任选了一句\n",
    "# for line in cont:\n",
    "for line in cont[:6]:\n",
    "    words = list(jieba.cut(line))   \n",
    "    novel_sentences.append(words)\n",
    "\n",
    "novel_sentences[4]"
   ]
  },
  {
   "cell_type": "markdown",
   "metadata": {},
   "source": [
    "#### 训练模型"
   ]
  },
  {
   "cell_type": "code",
   "execution_count": null,
   "metadata": {
    "collapsed": true
   },
   "outputs": [],
   "source": [
    "# 按照默认参数进行训练\n",
    "\n",
    "model = gensim.models.Word2Vec(sentences, size=100, window=5, min_count=5, workers=4)\n",
    "\n",
    "# 把训练好的模型存下来\n",
    "\n",
    "model.save(\"zetianjied.model\")\n",
    "\n",
    "# 训练模型需要大概20分钟左右的时间，因性能而异。由于模型太大了就不放在github上面了。"
   ]
  },
  {
   "cell_type": "code",
   "execution_count": 35,
   "metadata": {},
   "outputs": [
    {
     "name": "stderr",
     "output_type": "stream",
     "text": [
      "c:\\users\\administrator\\appdata\\local\\programs\\python\\python36-32\\lib\\site-packages\\gensim\\utils.py:860: UserWarning: detected Windows; aliasing chunkize to chunkize_serial\n",
      "  warnings.warn(\"detected Windows; aliasing chunkize to chunkize_serial\")\n",
      "Slow version of gensim.models.doc2vec is being used\n"
     ]
    }
   ],
   "source": [
    "import gensim\n",
    "# 读取模型\n",
    "\n",
    "model = gensim.models.Word2Vec.load(\"zetianjied.model\")"
   ]
  },
  {
   "cell_type": "markdown",
   "metadata": {},
   "source": [
    "#### 寻找境界体系\n",
    "\n",
    "首先，让我们看看《择天记》中实力境界的划分。作者在一开始告诉我们有一种境界叫做坐照境。那么，我们就通过上文中用`Word2Vec` 训练出来的模型找到与坐照类似的词汇。"
   ]
  },
  {
   "cell_type": "code",
   "execution_count": 36,
   "metadata": {},
   "outputs": [
    {
     "name": "stdout",
     "output_type": "stream",
     "text": [
      "('聚星', 0.8852657079696655)\n",
      "('通幽', 0.884159505367279)\n",
      "('洗髓', 0.882982075214386)\n",
      "('破境', 0.8720254302024841)\n",
      "('上境', 0.85828697681427)\n",
      "('巅峰', 0.8580290079116821)\n",
      "('自观', 0.8551108241081238)\n",
      "('境', 0.8437061905860901)\n",
      "('突破', 0.8296098709106445)\n",
      "('星域', 0.8197416067123413)\n"
     ]
    }
   ],
   "source": [
    "# 寻找相似境界\n",
    "\n",
    "for s in model.most_similar(positive=[\"坐照\"]):\n",
    "    print(s)"
   ]
  },
  {
   "cell_type": "markdown",
   "metadata": {},
   "source": [
    "#### 择天记中的大人物\n",
    "\n",
    "找到择天记中和反派**魔君**实力水平相似的人物"
   ]
  },
  {
   "cell_type": "code",
   "execution_count": 37,
   "metadata": {},
   "outputs": [
    {
     "name": "stdout",
     "output_type": "stream",
     "text": [
      "('商行舟', 0.846238374710083)\n",
      "('天海圣后', 0.8413384556770325)\n",
      "('黑袍', 0.8392456769943237)\n",
      "('别样红', 0.8350812792778015)\n",
      "('苏离', 0.798599123954773)\n",
      "('朱洛', 0.7769572138786316)\n",
      "('白帝', 0.774543285369873)\n"
     ]
    }
   ],
   "source": [
    "for s in model.most_similar(positive=[\"魔君\"])[:7]:\n",
    "    print(s)"
   ]
  },
  {
   "cell_type": "markdown",
   "metadata": {},
   "source": [
    "我们可以看到结果中出现了与魔君实力水平相似的前七个人物，这些人物可以与反派BOSS相提并论，肯定是站在《择天记》实力巅峰的大人物。事实上这些人物在原著中都是从圣境。"
   ]
  },
  {
   "cell_type": "markdown",
   "metadata": {},
   "source": [
    "#### 择天记中的情侣\n",
    "\n",
    "训练出来的模型还可以找到具有相似联系的词汇，比如给定情侣关系的两个人物，模型会找到小说中的情侣关系。\n",
    "\n",
    "我们先来测试一下模型，因为我们知道别样红和无穷碧是在小说中直接描写的情侣，所以我们给定陈长生和徐有容之间的关系，看看程序能否找出和无穷碧有情侣关系的人物。"
   ]
  },
  {
   "cell_type": "code",
   "execution_count": 41,
   "metadata": {},
   "outputs": [
    {
     "data": {
      "text/plain": [
       "('别样红', 0.6611273884773254)"
      ]
     },
     "execution_count": 41,
     "metadata": {},
     "output_type": "execute_result"
    }
   ],
   "source": [
    "d = model.most_similar(positive=['无穷碧', '陈长生'], negative=['徐有容'])[0]\n",
    "d"
   ]
  },
  {
   "cell_type": "markdown",
   "metadata": {},
   "source": [
    "我们随便找一个人物，比如：折袖。运行程序，看一看机器眼中**折袖与谁是情侣？**"
   ]
  },
  {
   "cell_type": "code",
   "execution_count": 46,
   "metadata": {},
   "outputs": [
    {
     "data": {
      "text/plain": [
       "('七间', 0.7867282032966614)"
      ]
     },
     "execution_count": 46,
     "metadata": {},
     "output_type": "execute_result"
    }
   ],
   "source": [
    "d = model.most_similar(positive=['折袖', '无穷碧'], negative=['别样红'])[0]\n",
    "d"
   ]
  },
  {
   "cell_type": "markdown",
   "metadata": {},
   "source": [
    "因为之前看过一点《择天记》，并且看到了折袖和七间登场。可是明明折袖和七间都是男性角色，所以可能程序出错了？但我百度了一下，才知道原来**七间是女伴男装**，最后真的和折袖在一起了！！！**妹的，竟然被机器给剧透了**！"
   ]
  },
  {
   "cell_type": "markdown",
   "metadata": {},
   "source": [
    "#### 第二部分结论\n",
    "\n",
    "1. 择天记的境界：聚星、通幽、洗髓、破境....\n",
    "2. 择天记中的大人物：商行舟、天海圣后、黑袍、别样红...\n",
    "3. 择天记中的情侣：陈长生&徐有容，折袖&七间，商行舟&寅行道\n",
    "\n",
    "## 05 写在最后\n",
    "\n",
    "上面的代码虽然使用了自然语言处理和机器学习，但实际上只要你掌握了Python基础就可以轻松玩转了。如果你也有喜欢的小说，你也可以训练一个模型，来探索隐藏在小说中的秘密。"
   ]
  }
 ],
 "metadata": {
  "kernelspec": {
   "display_name": "Python 3",
   "language": "python",
   "name": "python3"
  },
  "language_info": {
   "codemirror_mode": {
    "name": "ipython",
    "version": 3
   },
   "file_extension": ".py",
   "mimetype": "text/x-python",
   "name": "python",
   "nbconvert_exporter": "python",
   "pygments_lexer": "ipython3",
   "version": "3.6.1"
  },
  "toc": {
   "colors": {
    "hover_highlight": "#DAA520",
    "navigate_num": "#000000",
    "navigate_text": "#333333",
    "running_highlight": "#FF0000",
    "selected_highlight": "#FFD700",
    "sidebar_border": "#EEEEEE",
    "wrapper_background": "#FFFFFF"
   },
   "moveMenuLeft": true,
   "nav_menu": {
    "height": "191px",
    "width": "252px"
   },
   "navigate_menu": true,
   "number_sections": true,
   "sideBar": true,
   "threshold": 4,
   "toc_cell": false,
   "toc_section_display": "block",
   "toc_window_display": false,
   "widenNotebook": false
  }
 },
 "nbformat": 4,
 "nbformat_minor": 2
}
