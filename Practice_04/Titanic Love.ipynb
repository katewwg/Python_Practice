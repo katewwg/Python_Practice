{
 "cells": [
  {
   "cell_type": "markdown",
   "metadata": {},
   "source": [
    "# 机器学习：用Python预测你是否是灾难中的幸存者\n",
    "\n",
    "1912年英国白星航运公司下辖的巨轮泰坦尼克号，在从南安普敦驶向美国纽约的途中与一座冰山相撞，造成右舷船艏至船舯部破裂，五座水密舱进水。最终泰坦尼克船体断裂成两截后沉入大西洋底3700米处，2224名船员及乘客中，逾1500人丧生。\n",
    "\n",
    "![Titanic](https://upload.wikimedia.org/wikipedia/commons/thumb/f/fd/RMS_Titanic_3.jpg/1024px-RMS_Titanic_3.jpg)\n",
    "\n",
    "本文将和大家一起穿越百年，再回到泰坦尼克号沉船事故发生的现场。看看你我是否能成为这场灾难的幸存者？\n",
    "\n",
    "*本文采用真实数据，数据来源于 [kaggle](https://www.kaggle.com/c/titanic)*\n",
    "\n",
    "**本次训练数据，采用泰坦尼克号中891名乘客的人口学数据和基本信息。**\n",
    "**测试数据，采用泰坦尼克号中其余418名乘客的数据**"
   ]
  },
  {
   "cell_type": "code",
   "execution_count": 1,
   "metadata": {},
   "outputs": [
    {
     "name": "stderr",
     "output_type": "stream",
     "text": [
      "c:\\users\\administrator\\appdata\\local\\programs\\python\\python36-32\\lib\\site-packages\\IPython\\html.py:14: ShimWarning: The `IPython.html` package has been deprecated since IPython 4.0. You should import from `notebook` instead. `IPython.html.widgets` has moved to `ipywidgets`.\n",
      "  \"`IPython.html.widgets` has moved to `ipywidgets`.\", ShimWarning)\n"
     ]
    }
   ],
   "source": [
    "# 引用数据分析需要使用的一些包\n",
    "\n",
    "# 数据规整化\n",
    "import pandas as pd\n",
    "from pandas import Series,DataFrame\n",
    "from collections import Counter\n",
    "import numpy as np\n",
    "import re\n",
    "\n",
    "# 数据可视化\n",
    "import matplotlib.pyplot as plt\n",
    "import seaborn as sns\n",
    "sns.set_style('whitegrid')\n",
    "%matplotlib inline\n",
    "\n",
    "# 机器学习\n",
    "from sklearn.linear_model import LogisticRegression\n",
    "from sklearn.svm import SVC, LinearSVC\n",
    "from sklearn.ensemble import RandomForestClassifier\n",
    "from sklearn.neighbors import KNeighborsClassifier\n",
    "from sklearn.naive_bayes import GaussianNB"
   ]
  },
  {
   "cell_type": "code",
   "execution_count": 2,
   "metadata": {},
   "outputs": [
    {
     "data": {
      "text/html": [
       "<div>\n",
       "<style>\n",
       "    .dataframe thead tr:only-child th {\n",
       "        text-align: right;\n",
       "    }\n",
       "\n",
       "    .dataframe thead th {\n",
       "        text-align: left;\n",
       "    }\n",
       "\n",
       "    .dataframe tbody tr th {\n",
       "        vertical-align: top;\n",
       "    }\n",
       "</style>\n",
       "<table border=\"1\" class=\"dataframe\">\n",
       "  <thead>\n",
       "    <tr style=\"text-align: right;\">\n",
       "      <th></th>\n",
       "      <th>PassengerId</th>\n",
       "      <th>Survived</th>\n",
       "      <th>Pclass</th>\n",
       "      <th>Name</th>\n",
       "      <th>Sex</th>\n",
       "      <th>Age</th>\n",
       "      <th>SibSp</th>\n",
       "      <th>Parch</th>\n",
       "      <th>Ticket</th>\n",
       "      <th>Fare</th>\n",
       "      <th>Cabin</th>\n",
       "      <th>Embarked</th>\n",
       "    </tr>\n",
       "  </thead>\n",
       "  <tbody>\n",
       "    <tr>\n",
       "      <th>0</th>\n",
       "      <td>1</td>\n",
       "      <td>0</td>\n",
       "      <td>3</td>\n",
       "      <td>Braund, Mr. Owen Harris</td>\n",
       "      <td>male</td>\n",
       "      <td>22.0</td>\n",
       "      <td>1</td>\n",
       "      <td>0</td>\n",
       "      <td>A/5 21171</td>\n",
       "      <td>7.2500</td>\n",
       "      <td>NaN</td>\n",
       "      <td>S</td>\n",
       "    </tr>\n",
       "    <tr>\n",
       "      <th>1</th>\n",
       "      <td>2</td>\n",
       "      <td>1</td>\n",
       "      <td>1</td>\n",
       "      <td>Cumings, Mrs. John Bradley (Florence Briggs Th...</td>\n",
       "      <td>female</td>\n",
       "      <td>38.0</td>\n",
       "      <td>1</td>\n",
       "      <td>0</td>\n",
       "      <td>PC 17599</td>\n",
       "      <td>71.2833</td>\n",
       "      <td>C85</td>\n",
       "      <td>C</td>\n",
       "    </tr>\n",
       "    <tr>\n",
       "      <th>2</th>\n",
       "      <td>3</td>\n",
       "      <td>1</td>\n",
       "      <td>3</td>\n",
       "      <td>Heikkinen, Miss. Laina</td>\n",
       "      <td>female</td>\n",
       "      <td>26.0</td>\n",
       "      <td>0</td>\n",
       "      <td>0</td>\n",
       "      <td>STON/O2. 3101282</td>\n",
       "      <td>7.9250</td>\n",
       "      <td>NaN</td>\n",
       "      <td>S</td>\n",
       "    </tr>\n",
       "    <tr>\n",
       "      <th>3</th>\n",
       "      <td>4</td>\n",
       "      <td>1</td>\n",
       "      <td>1</td>\n",
       "      <td>Futrelle, Mrs. Jacques Heath (Lily May Peel)</td>\n",
       "      <td>female</td>\n",
       "      <td>35.0</td>\n",
       "      <td>1</td>\n",
       "      <td>0</td>\n",
       "      <td>113803</td>\n",
       "      <td>53.1000</td>\n",
       "      <td>C123</td>\n",
       "      <td>S</td>\n",
       "    </tr>\n",
       "    <tr>\n",
       "      <th>4</th>\n",
       "      <td>5</td>\n",
       "      <td>0</td>\n",
       "      <td>3</td>\n",
       "      <td>Allen, Mr. William Henry</td>\n",
       "      <td>male</td>\n",
       "      <td>35.0</td>\n",
       "      <td>0</td>\n",
       "      <td>0</td>\n",
       "      <td>373450</td>\n",
       "      <td>8.0500</td>\n",
       "      <td>NaN</td>\n",
       "      <td>S</td>\n",
       "    </tr>\n",
       "  </tbody>\n",
       "</table>\n",
       "</div>"
      ],
      "text/plain": [
       "   PassengerId  Survived  Pclass  \\\n",
       "0            1         0       3   \n",
       "1            2         1       1   \n",
       "2            3         1       3   \n",
       "3            4         1       1   \n",
       "4            5         0       3   \n",
       "\n",
       "                                                Name     Sex   Age  SibSp  \\\n",
       "0                            Braund, Mr. Owen Harris    male  22.0      1   \n",
       "1  Cumings, Mrs. John Bradley (Florence Briggs Th...  female  38.0      1   \n",
       "2                             Heikkinen, Miss. Laina  female  26.0      0   \n",
       "3       Futrelle, Mrs. Jacques Heath (Lily May Peel)  female  35.0      1   \n",
       "4                           Allen, Mr. William Henry    male  35.0      0   \n",
       "\n",
       "   Parch            Ticket     Fare Cabin Embarked  \n",
       "0      0         A/5 21171   7.2500   NaN        S  \n",
       "1      0          PC 17599  71.2833   C85        C  \n",
       "2      0  STON/O2. 3101282   7.9250   NaN        S  \n",
       "3      0            113803  53.1000  C123        S  \n",
       "4      0            373450   8.0500   NaN        S  "
      ]
     },
     "execution_count": 2,
     "metadata": {},
     "output_type": "execute_result"
    }
   ],
   "source": [
    "# 读取数据集\n",
    "\n",
    "titanic_data = pd.read_csv('train.csv')\n",
    "titanic_test_data = pd.read_csv('test.csv')\n",
    "titanic_data.head()"
   ]
  },
  {
   "cell_type": "markdown",
   "metadata": {},
   "source": [
    "数据中包含的信息：\n",
    "\n",
    "- Survived => 是否生还 \n",
    "    - *0 = No, 1 = Yes*\n",
    "- Pclass => 乘客等级(1/2/3等舱位)\n",
    "- Name => 乘客姓名\n",
    "- Sex => 性别\n",
    "- Age => 年龄\n",
    "- SibSp => 堂兄弟/妹个数\n",
    "- Parch => 父母与小孩个数\n",
    "- Ticket => 船票信息\n",
    "- Fare => 票价\n",
    "- Cabin => 客舱\n",
    "- Embarked => 登船港口 \n",
    "    - *C = Cherbourg 瑟堡, Q = Queenstown 皇后镇, S = Southampton 南安普普顿*"
   ]
  },
  {
   "cell_type": "code",
   "execution_count": 3,
   "metadata": {},
   "outputs": [
    {
     "name": "stdout",
     "output_type": "stream",
     "text": [
      "<class 'pandas.core.frame.DataFrame'>\n",
      "RangeIndex: 891 entries, 0 to 890\n",
      "Data columns (total 12 columns):\n",
      "PassengerId    891 non-null int64\n",
      "Survived       891 non-null int64\n",
      "Pclass         891 non-null int64\n",
      "Name           891 non-null object\n",
      "Sex            891 non-null object\n",
      "Age            714 non-null float64\n",
      "SibSp          891 non-null int64\n",
      "Parch          891 non-null int64\n",
      "Ticket         891 non-null object\n",
      "Fare           891 non-null float64\n",
      "Cabin          204 non-null object\n",
      "Embarked       889 non-null object\n",
      "dtypes: float64(2), int64(5), object(5)\n",
      "memory usage: 66.2+ KB\n"
     ]
    }
   ],
   "source": [
    "# 查看数据的整体信息\n",
    "\n",
    "titanic_data.info()"
   ]
  },
  {
   "cell_type": "code",
   "execution_count": 4,
   "metadata": {
    "scrolled": true
   },
   "outputs": [
    {
     "data": {
      "text/html": [
       "<div>\n",
       "<style>\n",
       "    .dataframe thead tr:only-child th {\n",
       "        text-align: right;\n",
       "    }\n",
       "\n",
       "    .dataframe thead th {\n",
       "        text-align: left;\n",
       "    }\n",
       "\n",
       "    .dataframe tbody tr th {\n",
       "        vertical-align: top;\n",
       "    }\n",
       "</style>\n",
       "<table border=\"1\" class=\"dataframe\">\n",
       "  <thead>\n",
       "    <tr style=\"text-align: right;\">\n",
       "      <th></th>\n",
       "      <th>PassengerId</th>\n",
       "      <th>Survived</th>\n",
       "      <th>Pclass</th>\n",
       "      <th>Age</th>\n",
       "      <th>SibSp</th>\n",
       "      <th>Parch</th>\n",
       "      <th>Fare</th>\n",
       "    </tr>\n",
       "  </thead>\n",
       "  <tbody>\n",
       "    <tr>\n",
       "      <th>count</th>\n",
       "      <td>891.000000</td>\n",
       "      <td>891.000000</td>\n",
       "      <td>891.000000</td>\n",
       "      <td>714.000000</td>\n",
       "      <td>891.000000</td>\n",
       "      <td>891.000000</td>\n",
       "      <td>891.000000</td>\n",
       "    </tr>\n",
       "    <tr>\n",
       "      <th>mean</th>\n",
       "      <td>446.000000</td>\n",
       "      <td>0.383838</td>\n",
       "      <td>2.308642</td>\n",
       "      <td>29.699118</td>\n",
       "      <td>0.523008</td>\n",
       "      <td>0.381594</td>\n",
       "      <td>32.204208</td>\n",
       "    </tr>\n",
       "    <tr>\n",
       "      <th>std</th>\n",
       "      <td>257.353842</td>\n",
       "      <td>0.486592</td>\n",
       "      <td>0.836071</td>\n",
       "      <td>14.526497</td>\n",
       "      <td>1.102743</td>\n",
       "      <td>0.806057</td>\n",
       "      <td>49.693429</td>\n",
       "    </tr>\n",
       "    <tr>\n",
       "      <th>min</th>\n",
       "      <td>1.000000</td>\n",
       "      <td>0.000000</td>\n",
       "      <td>1.000000</td>\n",
       "      <td>0.420000</td>\n",
       "      <td>0.000000</td>\n",
       "      <td>0.000000</td>\n",
       "      <td>0.000000</td>\n",
       "    </tr>\n",
       "    <tr>\n",
       "      <th>25%</th>\n",
       "      <td>223.500000</td>\n",
       "      <td>0.000000</td>\n",
       "      <td>2.000000</td>\n",
       "      <td>20.125000</td>\n",
       "      <td>0.000000</td>\n",
       "      <td>0.000000</td>\n",
       "      <td>7.910400</td>\n",
       "    </tr>\n",
       "    <tr>\n",
       "      <th>50%</th>\n",
       "      <td>446.000000</td>\n",
       "      <td>0.000000</td>\n",
       "      <td>3.000000</td>\n",
       "      <td>28.000000</td>\n",
       "      <td>0.000000</td>\n",
       "      <td>0.000000</td>\n",
       "      <td>14.454200</td>\n",
       "    </tr>\n",
       "    <tr>\n",
       "      <th>75%</th>\n",
       "      <td>668.500000</td>\n",
       "      <td>1.000000</td>\n",
       "      <td>3.000000</td>\n",
       "      <td>38.000000</td>\n",
       "      <td>1.000000</td>\n",
       "      <td>0.000000</td>\n",
       "      <td>31.000000</td>\n",
       "    </tr>\n",
       "    <tr>\n",
       "      <th>max</th>\n",
       "      <td>891.000000</td>\n",
       "      <td>1.000000</td>\n",
       "      <td>3.000000</td>\n",
       "      <td>80.000000</td>\n",
       "      <td>8.000000</td>\n",
       "      <td>6.000000</td>\n",
       "      <td>512.329200</td>\n",
       "    </tr>\n",
       "  </tbody>\n",
       "</table>\n",
       "</div>"
      ],
      "text/plain": [
       "       PassengerId    Survived      Pclass         Age       SibSp  \\\n",
       "count   891.000000  891.000000  891.000000  714.000000  891.000000   \n",
       "mean    446.000000    0.383838    2.308642   29.699118    0.523008   \n",
       "std     257.353842    0.486592    0.836071   14.526497    1.102743   \n",
       "min       1.000000    0.000000    1.000000    0.420000    0.000000   \n",
       "25%     223.500000    0.000000    2.000000   20.125000    0.000000   \n",
       "50%     446.000000    0.000000    3.000000   28.000000    0.000000   \n",
       "75%     668.500000    1.000000    3.000000   38.000000    1.000000   \n",
       "max     891.000000    1.000000    3.000000   80.000000    8.000000   \n",
       "\n",
       "            Parch        Fare  \n",
       "count  891.000000  891.000000  \n",
       "mean     0.381594   32.204208  \n",
       "std      0.806057   49.693429  \n",
       "min      0.000000    0.000000  \n",
       "25%      0.000000    7.910400  \n",
       "50%      0.000000   14.454200  \n",
       "75%      0.000000   31.000000  \n",
       "max      6.000000  512.329200  "
      ]
     },
     "execution_count": 4,
     "metadata": {},
     "output_type": "execute_result"
    }
   ],
   "source": [
    "# 查看数据的摘要信息\n",
    "\n",
    "titanic_data.describe()"
   ]
  },
  {
   "cell_type": "markdown",
   "metadata": {},
   "source": [
    "从整体信息与摘要信息中我们获得了什么？\n",
    "\n",
    "1. 891名乘客及船员的信息比较完整，其中 *age* 字段以及 *embarked* 有缺失值。\n",
    "2. 891名乘客中生还率为 38.38%"
   ]
  },
  {
   "cell_type": "code",
   "execution_count": 5,
   "metadata": {},
   "outputs": [
    {
     "data": {
      "image/png": "[encoded data removed]",
      "text/plain": [
       "<matplotlib.figure.Figure at 0x880d0b0>"
      ]
     },
     "metadata": {},
     "output_type": "display_data"
    }
   ],
   "source": [
    "fig = plt.figure(figsize=(5,4), dpi=120)\n",
    "ax = fig.add_subplot(111)\n",
    "ax = sns.countplot('Survived',data=titanic_data,hue='Sex')"
   ]
  },
  {
   "cell_type": "code",
   "execution_count": 8,
   "metadata": {},
   "outputs": [
    {
     "data": {
      "text/html": [
       "<div>\n",
       "<style>\n",
       "    .dataframe thead tr:only-child th {\n",
       "        text-align: right;\n",
       "    }\n",
       "\n",
       "    .dataframe thead th {\n",
       "        text-align: left;\n",
       "    }\n",
       "\n",
       "    .dataframe tbody tr th {\n",
       "        vertical-align: top;\n",
       "    }\n",
       "</style>\n",
       "<table border=\"1\" class=\"dataframe\">\n",
       "  <thead>\n",
       "    <tr style=\"text-align: right;\">\n",
       "      <th></th>\n",
       "      <th></th>\n",
       "      <th>PassengerId</th>\n",
       "    </tr>\n",
       "    <tr>\n",
       "      <th>Survived</th>\n",
       "      <th>Sex</th>\n",
       "      <th></th>\n",
       "    </tr>\n",
       "  </thead>\n",
       "  <tbody>\n",
       "    <tr>\n",
       "      <th rowspan=\"2\" valign=\"top\">0</th>\n",
       "      <th>female</th>\n",
       "      <td>81</td>\n",
       "    </tr>\n",
       "    <tr>\n",
       "      <th>male</th>\n",
       "      <td>468</td>\n",
       "    </tr>\n",
       "    <tr>\n",
       "      <th rowspan=\"2\" valign=\"top\">1</th>\n",
       "      <th>female</th>\n",
       "      <td>233</td>\n",
       "    </tr>\n",
       "    <tr>\n",
       "      <th>male</th>\n",
       "      <td>109</td>\n",
       "    </tr>\n",
       "  </tbody>\n",
       "</table>\n",
       "</div>"
      ],
      "text/plain": [
       "                 PassengerId\n",
       "Survived Sex                \n",
       "0        female           81\n",
       "         male            468\n",
       "1        female          233\n",
       "         male            109"
      ]
     },
     "execution_count": 8,
     "metadata": {},
     "output_type": "execute_result"
    }
   ],
   "source": [
    "titanic_data = titanic_data.fillna(method='ffill') # 填补数据缺失值\n",
    "titanic_data.groupby(['Survived','Sex']).count()[['PassengerId']]"
   ]
  },
  {
   "cell_type": "code",
   "execution_count": 9,
   "metadata": {},
   "outputs": [
    {
     "data": {
      "image/png": "[encoded data removed]",
      "text/plain": [
       "<matplotlib.figure.Figure at 0x8dbc6f0>"
      ]
     },
     "metadata": {},
     "output_type": "display_data"
    }
   ],
   "source": [
    "fig, axis1 = plt.subplots(1,1,figsize=(18,4))\n",
    "titanic_data.Age = titanic_data.Age.apply(int)\n",
    "average_age = titanic_data[[\"Age\", \"Survived\"]].groupby(['Age'],as_index=False).mean()\n",
    "ax = sns.barplot(x='Age', y='Survived', data=average_age)"
   ]
  },
  {
   "cell_type": "markdown",
   "metadata": {},
   "source": [
    "这每一条冰冷的数据背后，都是一个真实存在的人。我们先聚焦这些数据背后鲜活的生命，来看看这些数据背后的故事。\n",
    "\n",
    "泰坦尼克号中有一些比较有名气的人，让我们来看看他们在这场灾难中经历了什么？\n",
    "\n",
    "1. John Jacob Astor IV，百万富翁、投资家和作家，是泰坦尼克号中最富有的人。\n",
    "2. 美国梅西百货股东 Isidor Straus。"
   ]
  },
  {
   "cell_type": "code",
   "execution_count": 10,
   "metadata": {},
   "outputs": [
    {
     "name": "stdout",
     "output_type": "stream",
     "text": [
      "[PassengerId                                                  701\n",
      "Survived                                                       1\n",
      "Pclass                                                         1\n",
      "Name           Astor, Mrs. John Jacob (Madeleine Talmadge Force)\n",
      "Sex                                                       female\n",
      "Age                                                           18\n",
      "SibSp                                                          1\n",
      "Parch                                                          0\n",
      "Ticket                                                  PC 17757\n",
      "Fare                                                     227.525\n",
      "Cabin                                                    C62 C64\n",
      "Embarked                                                       C\n",
      "Name: 700, dtype: object]\n",
      "--------\n",
      "[PassengerId                      1094\n",
      "Pclass                              1\n",
      "Name           Astor, Col. John Jacob\n",
      "Sex                              male\n",
      "Age                                47\n",
      "SibSp                               1\n",
      "Parch                               0\n",
      "Ticket                       PC 17757\n",
      "Fare                          227.525\n",
      "Cabin                         C62 C64\n",
      "Embarked                            C\n",
      "Name: 202, dtype: object]\n"
     ]
    }
   ],
   "source": [
    "# 通过姓氏查找人物数据的方法\n",
    "\n",
    "def find_people(df,lastname):\n",
    "    name_list = []\n",
    "    for index,names in enumerate(df.Name.values):\n",
    "         if lastname in names.split(',')[0]:\n",
    "                name_list.append(df.iloc[index])\n",
    "    return name_list\n",
    "\n",
    "# 找到约翰·雅各布·阿斯特四世\n",
    "\n",
    "print(find_people(titanic_data,'Astor')) # 训练数据中的Astor\n",
    "print('--------')\n",
    "print(find_people(titanic_test_data,'Astor')) # 测试数据中的Astor"
   ]
  },
  {
   "cell_type": "markdown",
   "metadata": {},
   "source": [
    "我们找到的第一个人，她的全名（'Name字段'）叫做*Astor, Mrs. John Jacob*，从名字中可以断定她是*约翰·雅各布*的妻子。\n",
    "我们找到的第二个人，他的全名叫做*Astor, Col. John Jacob*，这个人就是我们要找的找到约翰·雅各布·阿斯特四世。\n",
    "\n",
    "![](https://upload.wikimedia.org/wikipedia/commons/9/91/John_Jacob_Astor_1909.jpg)\n",
    "约翰·雅各布\n",
    "\n",
    "约翰·雅各布和他的妻子相差29岁，他们花了227英镑买下了两张泰坦尼克号一等舱的船票，并且在英吉利海峡的瑟堡港口登船开始蜜月之旅。然而不幸发生了，这艘巨轮将要沉没，在这场灾难中这对夫妻会有怎样的结局？\n",
    "\n",
    "通过数据我们知道约翰·雅各布的妻子劫后余生（*Survived =1*），而雅各布先生本人的生还情况我们还不知道，不过我们可以通过Python机器学习来帮助我们找到故事的结局。"
   ]
  },
  {
   "cell_type": "code",
   "execution_count": 11,
   "metadata": {
    "scrolled": false
   },
   "outputs": [
    {
     "data": {
      "text/plain": [
       "[PassengerId                   973\n",
       " Pclass                          1\n",
       " Name           Straus, Mr. Isidor\n",
       " Sex                          male\n",
       " Age                            67\n",
       " SibSp                           1\n",
       " Parch                           0\n",
       " Ticket                   PC 17483\n",
       " Fare                      221.779\n",
       " Cabin                     C55 C57\n",
       " Embarked                        S\n",
       " Name: 81, dtype: object, PassengerId                                      1006\n",
       " Pclass                                              1\n",
       " Name           Straus, Mrs. Isidor (Rosalie Ida Blun)\n",
       " Sex                                            female\n",
       " Age                                                63\n",
       " SibSp                                               1\n",
       " Parch                                               0\n",
       " Ticket                                       PC 17483\n",
       " Fare                                          221.779\n",
       " Cabin                                         C55 C57\n",
       " Embarked                                            S\n",
       " Name: 114, dtype: object]"
      ]
     },
     "execution_count": 11,
     "metadata": {},
     "output_type": "execute_result"
    }
   ],
   "source": [
    "# 找到 Isidor Straus\n",
    "\n",
    "find_people(titanic_test_data,'Straus')"
   ]
  },
  {
   "cell_type": "markdown",
   "metadata": {},
   "source": [
    "![](https://upload.wikimedia.org/wikipedia/commons/thumb/6/6f/Isidor_Straus_1903.jpg/220px-Isidor_Straus_1903.jpg)\n",
    "\n",
    "美国梅西百货股东*Isidor Straus*和他的妻子，花费了221英镑卖了泰坦尼克号的一等舱舱位。他们在南安普顿港口登船，最终生死未卜。但我们可以通过Python来看看这两位老夫妻的结局。"
   ]
  },
  {
   "cell_type": "markdown",
   "metadata": {},
   "source": [
    "我们聚焦于这些冰冷数据后的鲜活个体后，我们再来看看那些在泰坦尼克号中的一家人，在灾难发生后有了怎样的变故？"
   ]
  },
  {
   "cell_type": "code",
   "execution_count": 12,
   "metadata": {
    "collapsed": true,
    "scrolled": true
   },
   "outputs": [],
   "source": [
    "# 寻找泰坦尼克号中的家庭\n",
    "\n",
    "def get_family_lastname():\n",
    "    lname_list = []\n",
    "    fn = titanic_data.Name[titanic_data['SibSp'] >= 1] # 同辈亲戚人数大于1的乘客\n",
    "    fl = [name.split(',')[0] for name in fn.values] # 这些乘客的姓氏列表\n",
    "    fs = set(fl) # 对姓氏列表进行去重\n",
    "    # 确定为训练数据集中的家庭\n",
    "    for lname in fs:\n",
    "        if len(find_people(titanic_data,lname)) >= 2:\n",
    "            lname_list.append(lname)\n",
    "    return lname_list\n",
    "\n",
    "# 在灾难发生后家庭成员存活状况\n",
    "\n",
    "def family_info(family_lastname):\n",
    "    name_list = find_people(titanic_data,family_lastname) # 所有家庭成员\n",
    "    f_info = []\n",
    "    for i in name_list:\n",
    "        info = {}\n",
    "        info['lname'],info['fname'] = i.Name.split(',')\n",
    "        info['sex'] = i.Sex\n",
    "        info['Age'] = i.Age\n",
    "        info['Pclass'] = i.Pclass\n",
    "        info['Survived'] = i.Survived\n",
    "        f_info.append(info)\n",
    "    family_df = DataFrame(f_info) # 构建一个数组\n",
    "    return family_df"
   ]
  },
  {
   "cell_type": "code",
   "execution_count": 13,
   "metadata": {
    "collapsed": true
   },
   "outputs": [],
   "source": [
    "# 全部家庭的数组\n",
    "\n",
    "all_family_df_list = []\n",
    "for l in get_family_lastname():\n",
    "    all_family_df_list.append(family_info(l))\n",
    "all_family_df = pd.concat(all_family_df_list)"
   ]
  },
  {
   "cell_type": "code",
   "execution_count": 14,
   "metadata": {
    "scrolled": true
   },
   "outputs": [
    {
     "data": {
      "text/html": [
       "<div>\n",
       "<style>\n",
       "    .dataframe thead tr:only-child th {\n",
       "        text-align: right;\n",
       "    }\n",
       "\n",
       "    .dataframe thead th {\n",
       "        text-align: left;\n",
       "    }\n",
       "\n",
       "    .dataframe tbody tr th {\n",
       "        vertical-align: top;\n",
       "    }\n",
       "</style>\n",
       "<table border=\"1\" class=\"dataframe\">\n",
       "  <thead>\n",
       "    <tr style=\"text-align: right;\">\n",
       "      <th></th>\n",
       "      <th>Age</th>\n",
       "      <th>Pclass</th>\n",
       "      <th>Survived</th>\n",
       "      <th>fname</th>\n",
       "      <th>lname</th>\n",
       "      <th>sex</th>\n",
       "    </tr>\n",
       "  </thead>\n",
       "  <tbody>\n",
       "    <tr>\n",
       "      <th>0</th>\n",
       "      <td>36</td>\n",
       "      <td>2</td>\n",
       "      <td>0</td>\n",
       "      <td>Mr. Michel (\"Louis M Hoffman\")</td>\n",
       "      <td>Navratil</td>\n",
       "      <td>male</td>\n",
       "    </tr>\n",
       "    <tr>\n",
       "      <th>1</th>\n",
       "      <td>3</td>\n",
       "      <td>2</td>\n",
       "      <td>1</td>\n",
       "      <td>Master. Michel M</td>\n",
       "      <td>Navratil</td>\n",
       "      <td>male</td>\n",
       "    </tr>\n",
       "    <tr>\n",
       "      <th>2</th>\n",
       "      <td>2</td>\n",
       "      <td>2</td>\n",
       "      <td>1</td>\n",
       "      <td>Master. Edmond Roger</td>\n",
       "      <td>Navratil</td>\n",
       "      <td>male</td>\n",
       "    </tr>\n",
       "    <tr>\n",
       "      <th>0</th>\n",
       "      <td>36</td>\n",
       "      <td>3</td>\n",
       "      <td>0</td>\n",
       "      <td>Mr. Ingvald Olai Olsen</td>\n",
       "      <td>Hagland</td>\n",
       "      <td>male</td>\n",
       "    </tr>\n",
       "    <tr>\n",
       "      <th>1</th>\n",
       "      <td>9</td>\n",
       "      <td>3</td>\n",
       "      <td>0</td>\n",
       "      <td>Mr. Konrad Mathias Reiersen</td>\n",
       "      <td>Hagland</td>\n",
       "      <td>male</td>\n",
       "    </tr>\n",
       "  </tbody>\n",
       "</table>\n",
       "</div>"
      ],
      "text/plain": [
       "   Age  Pclass  Survived                            fname     lname   sex\n",
       "0   36       2         0   Mr. Michel (\"Louis M Hoffman\")  Navratil  male\n",
       "1    3       2         1                 Master. Michel M  Navratil  male\n",
       "2    2       2         1             Master. Edmond Roger  Navratil  male\n",
       "0   36       3         0           Mr. Ingvald Olai Olsen   Hagland  male\n",
       "1    9       3         0      Mr. Konrad Mathias Reiersen   Hagland  male"
      ]
     },
     "execution_count": 14,
     "metadata": {},
     "output_type": "execute_result"
    }
   ],
   "source": [
    "all_family_df.head()"
   ]
  },
  {
   "cell_type": "markdown",
   "metadata": {},
   "source": [
    "我们先来看看有多少人和自己的家人一起登上了泰坦尼克号？"
   ]
  },
  {
   "cell_type": "code",
   "execution_count": 15,
   "metadata": {},
   "outputs": [
    {
     "name": "stdout",
     "output_type": "stream",
     "text": [
      "在泰坦尼克号中共有106个家庭\n"
     ]
    }
   ],
   "source": [
    "f_c = len(Counter(all_family_df.lname))\n",
    "print('在泰坦尼克号中共有{}个家庭'.format(f_c))\n",
    "family_member_count = all_family_df['fname'].groupby(all_family_df['lname']).count()"
   ]
  },
  {
   "cell_type": "code",
   "execution_count": 16,
   "metadata": {
    "scrolled": true
   },
   "outputs": [
    {
     "data": {
      "text/plain": [
       "lname\n",
       "Andersson    9\n",
       "Name: fname, dtype: int64"
      ]
     },
     "execution_count": 16,
     "metadata": {},
     "output_type": "execute_result"
    }
   ],
   "source": [
    "# 找到家庭成员最多的家庭\n",
    "\n",
    "family_member_count[family_member_count == family_member_count.max()]"
   ]
  },
  {
   "cell_type": "markdown",
   "metadata": {},
   "source": [
    "在106个家庭中，其中*Andersson*安德森家族共有9名家族成员登船，我们来看看这个家庭在灾难中发生了什么？"
   ]
  },
  {
   "cell_type": "code",
   "execution_count": 17,
   "metadata": {},
   "outputs": [
    {
     "data": {
      "text/html": [
       "<div>\n",
       "<style>\n",
       "    .dataframe thead tr:only-child th {\n",
       "        text-align: right;\n",
       "    }\n",
       "\n",
       "    .dataframe thead th {\n",
       "        text-align: left;\n",
       "    }\n",
       "\n",
       "    .dataframe tbody tr th {\n",
       "        vertical-align: top;\n",
       "    }\n",
       "</style>\n",
       "<table border=\"1\" class=\"dataframe\">\n",
       "  <thead>\n",
       "    <tr style=\"text-align: right;\">\n",
       "      <th></th>\n",
       "      <th>Age</th>\n",
       "      <th>Pclass</th>\n",
       "      <th>Survived</th>\n",
       "      <th>fname</th>\n",
       "      <th>lname</th>\n",
       "      <th>sex</th>\n",
       "    </tr>\n",
       "  </thead>\n",
       "  <tbody>\n",
       "    <tr>\n",
       "      <th>0</th>\n",
       "      <td>39</td>\n",
       "      <td>3</td>\n",
       "      <td>0</td>\n",
       "      <td>Mr. Anders Johan</td>\n",
       "      <td>Andersson</td>\n",
       "      <td>male</td>\n",
       "    </tr>\n",
       "    <tr>\n",
       "      <th>1</th>\n",
       "      <td>17</td>\n",
       "      <td>3</td>\n",
       "      <td>1</td>\n",
       "      <td>Miss. Erna Alexandra</td>\n",
       "      <td>Andersson</td>\n",
       "      <td>female</td>\n",
       "    </tr>\n",
       "    <tr>\n",
       "      <th>2</th>\n",
       "      <td>2</td>\n",
       "      <td>3</td>\n",
       "      <td>0</td>\n",
       "      <td>Miss. Ellis Anna Maria</td>\n",
       "      <td>Andersson</td>\n",
       "      <td>female</td>\n",
       "    </tr>\n",
       "    <tr>\n",
       "      <th>3</th>\n",
       "      <td>27</td>\n",
       "      <td>3</td>\n",
       "      <td>1</td>\n",
       "      <td>Mr. August Edvard (\"Wennerstrom\")</td>\n",
       "      <td>Andersson</td>\n",
       "      <td>male</td>\n",
       "    </tr>\n",
       "    <tr>\n",
       "      <th>4</th>\n",
       "      <td>9</td>\n",
       "      <td>3</td>\n",
       "      <td>0</td>\n",
       "      <td>Miss. Ingeborg Constanzia</td>\n",
       "      <td>Andersson</td>\n",
       "      <td>female</td>\n",
       "    </tr>\n",
       "    <tr>\n",
       "      <th>5</th>\n",
       "      <td>11</td>\n",
       "      <td>3</td>\n",
       "      <td>0</td>\n",
       "      <td>Miss. Sigrid Elisabeth</td>\n",
       "      <td>Andersson</td>\n",
       "      <td>female</td>\n",
       "    </tr>\n",
       "    <tr>\n",
       "      <th>6</th>\n",
       "      <td>39</td>\n",
       "      <td>3</td>\n",
       "      <td>0</td>\n",
       "      <td>Mrs. Anders Johan (Alfrida Konstantia Brogren)</td>\n",
       "      <td>Andersson</td>\n",
       "      <td>female</td>\n",
       "    </tr>\n",
       "    <tr>\n",
       "      <th>7</th>\n",
       "      <td>6</td>\n",
       "      <td>3</td>\n",
       "      <td>0</td>\n",
       "      <td>Miss. Ebba Iris Alfrida</td>\n",
       "      <td>Andersson</td>\n",
       "      <td>female</td>\n",
       "    </tr>\n",
       "    <tr>\n",
       "      <th>8</th>\n",
       "      <td>4</td>\n",
       "      <td>3</td>\n",
       "      <td>0</td>\n",
       "      <td>Master. Sigvard Harald Elias</td>\n",
       "      <td>Andersson</td>\n",
       "      <td>male</td>\n",
       "    </tr>\n",
       "  </tbody>\n",
       "</table>\n",
       "</div>"
      ],
      "text/plain": [
       "   Age  Pclass  Survived                                            fname  \\\n",
       "0   39       3         0                                 Mr. Anders Johan   \n",
       "1   17       3         1                             Miss. Erna Alexandra   \n",
       "2    2       3         0                           Miss. Ellis Anna Maria   \n",
       "3   27       3         1                Mr. August Edvard (\"Wennerstrom\")   \n",
       "4    9       3         0                        Miss. Ingeborg Constanzia   \n",
       "5   11       3         0                           Miss. Sigrid Elisabeth   \n",
       "6   39       3         0   Mrs. Anders Johan (Alfrida Konstantia Brogren)   \n",
       "7    6       3         0                          Miss. Ebba Iris Alfrida   \n",
       "8    4       3         0                     Master. Sigvard Harald Elias   \n",
       "\n",
       "       lname     sex  \n",
       "0  Andersson    male  \n",
       "1  Andersson  female  \n",
       "2  Andersson  female  \n",
       "3  Andersson    male  \n",
       "4  Andersson  female  \n",
       "5  Andersson  female  \n",
       "6  Andersson  female  \n",
       "7  Andersson  female  \n",
       "8  Andersson    male  "
      ]
     },
     "execution_count": 17,
     "metadata": {},
     "output_type": "execute_result"
    }
   ],
   "source": [
    "all_family_df[all_family_df.lname == 'Andersson']"
   ]
  },
  {
   "cell_type": "markdown",
   "metadata": {},
   "source": [
    "*Andersson*家族中的一共有五个小孩子，其中有一个小男孩和四个小女孩。不幸的是这五个小孩子都在这场灾难中丧生了。他们中最小的只有两岁，最大的也不过11岁。\n",
    "\n",
    "另外的四个大人，分别是*Anders Johan*夫妇和两个年轻人欧娜女士和爱德华先生。*Anders Johan*夫妇在这场灾难中共赴生死，而这两个年轻人活了下来。\n",
    "\n",
    "在这场巨大的灾难中，一个九人组成的大家庭只有两个人幸运的活了下来，而其他七个只能随着泰坦尼克号坠入大西洋。\n",
    "\n",
    "家庭的惨剧已然让我们悲伤不已，恋人之间的生离死别、阴阳相隔更是令人唏嘘感叹。在目睹了家庭的惨剧后，我们再来看看泰坦尼克号中的情侣们最后的结局！"
   ]
  },
  {
   "cell_type": "code",
   "execution_count": 18,
   "metadata": {
    "collapsed": true,
    "scrolled": true
   },
   "outputs": [],
   "source": [
    "r = re.compile(r'Mrs.(.*?)\\(') # 通过正则表达式获取丈夫姓氏\n",
    "husband_name = [] # 丈夫姓名列表\n",
    "for l in all_family_df.fname:\n",
    "    n = r.findall(l)\n",
    "    if n:\n",
    "        n = n[0].strip()\n",
    "        husband_name.append(n)"
   ]
  },
  {
   "cell_type": "code",
   "execution_count": 19,
   "metadata": {
    "collapsed": true
   },
   "outputs": [],
   "source": [
    "# 排除同名的可能\n",
    "\n",
    "def husband_and_wife(name):\n",
    "    haw_df = all_family_df[[True if name in n else False for n in all_family_df.fname]]\n",
    "    if len(haw_df) >= 2:\n",
    "        return haw_df\n",
    "    pass"
   ]
  },
  {
   "cell_type": "code",
   "execution_count": 20,
   "metadata": {
    "collapsed": true,
    "scrolled": true
   },
   "outputs": [],
   "source": [
    "# 判断家庭情况\n",
    "\n",
    "def faw_situation(name):\n",
    "    faw = husband_and_wife(name)\n",
    "    faw_g_c = faw.groupby('lname').count()\n",
    "    faw_list = faw_g_c[faw_g_c.sex >= 2].index\n",
    "    faw_g_s = faw.groupby('lname').sum()\n",
    "    situation = []\n",
    "    for i in faw_list:\n",
    "        f_c = faw_g_c.loc[i,'Age']\n",
    "        s = faw_g_s.loc[i,'Survived']\n",
    "        if s == 0:\n",
    "            situation.append(('{} {} 夫妇'.format(i,name),'All dead'))\n",
    "        elif s == f_c:\n",
    "            situation.append(('{} {} 夫妇'.format(i,name),'All alive'))\n",
    "        else:\n",
    "            for p_info in find_people(titanic_data,i):\n",
    "                if name in p_info.Name:\n",
    "                    if p_info.Survived == 0:\n",
    "                        if p_info.Sex == 'female':\n",
    "                            situation.append(('{} {} 夫妇'.format(i,name),'wife dead'))\n",
    "                            break\n",
    "                        else:\n",
    "                            situation.append(('{} {} 夫妇'.format(i,name),'husband dead'))\n",
    "                            break\n",
    "    if situation:\n",
    "        return situation"
   ]
  },
  {
   "cell_type": "code",
   "execution_count": 21,
   "metadata": {
    "scrolled": true
   },
   "outputs": [
    {
     "data": {
      "text/plain": [
       "[('Nasser Nicholas 夫妇', 'husband dead'),\n",
       " ('Taussig Emil 夫妇', 'husband dead'),\n",
       " ('Goldenberg Samuel L 夫妇', 'All alive'),\n",
       " ('Collyer Harvey 夫妇', 'husband dead'),\n",
       " ('Panula Juha 夫妇', 'All dead')]"
      ]
     },
     "execution_count": 21,
     "metadata": {},
     "output_type": "execute_result"
    }
   ],
   "source": [
    "faw_situ_list = [] # 家庭情况列表\n",
    "for n in husband_name:\n",
    "    if husband_and_wife(n) is not None:\n",
    "        if faw_situation(n):\n",
    "            faw_situ_list += faw_situation(n)\n",
    "faw_situ_list[:5] # 只读取前5个数据"
   ]
  },
  {
   "cell_type": "code",
   "execution_count": 22,
   "metadata": {
    "scrolled": true
   },
   "outputs": [
    {
     "data": {
      "text/html": [
       "<div>\n",
       "<style>\n",
       "    .dataframe thead tr:only-child th {\n",
       "        text-align: right;\n",
       "    }\n",
       "\n",
       "    .dataframe thead th {\n",
       "        text-align: left;\n",
       "    }\n",
       "\n",
       "    .dataframe tbody tr th {\n",
       "        vertical-align: top;\n",
       "    }\n",
       "</style>\n",
       "<table border=\"1\" class=\"dataframe\">\n",
       "  <thead>\n",
       "    <tr style=\"text-align: right;\">\n",
       "      <th></th>\n",
       "      <th>family</th>\n",
       "    </tr>\n",
       "    <tr>\n",
       "      <th>Dead or Alive</th>\n",
       "      <th></th>\n",
       "    </tr>\n",
       "  </thead>\n",
       "  <tbody>\n",
       "    <tr>\n",
       "      <th>All alive</th>\n",
       "      <td>21</td>\n",
       "    </tr>\n",
       "    <tr>\n",
       "      <th>All dead</th>\n",
       "      <td>18</td>\n",
       "    </tr>\n",
       "    <tr>\n",
       "      <th>husband dead</th>\n",
       "      <td>45</td>\n",
       "    </tr>\n",
       "  </tbody>\n",
       "</table>\n",
       "</div>"
      ],
      "text/plain": [
       "               family\n",
       "Dead or Alive        \n",
       "All alive          21\n",
       "All dead           18\n",
       "husband dead       45"
      ]
     },
     "execution_count": 22,
     "metadata": {},
     "output_type": "execute_result"
    }
   ],
   "source": [
    "f_df = DataFrame(faw_situ_list,columns=['family','Dead or Alive'])\n",
    "f_df.groupby('Dead or Alive').count()"
   ]
  },
  {
   "cell_type": "code",
   "execution_count": 23,
   "metadata": {},
   "outputs": [
    {
     "data": {
      "text/plain": [
       "<matplotlib.text.Text at 0x8969e50>"
      ]
     },
     "execution_count": 23,
     "metadata": {},
     "output_type": "execute_result"
    },
    {
     "data": {
      "image/png": "[encoded data removed]",
      "text/plain": [
       "<matplotlib.figure.Figure at 0x92583d0>"
      ]
     },
     "metadata": {},
     "output_type": "display_data"
    }
   ],
   "source": [
    "fig = plt.figure(figsize=(5,4), dpi=120)\n",
    "ax = fig.add_subplot(111)\n",
    "ax = sns.countplot('Dead or Alive',data=f_df)\n",
    "ax.set_title('Who dead in Titanic Disaster')"
   ]
  },
  {
   "cell_type": "markdown",
   "metadata": {},
   "source": [
    "泰坦尼克号中共有84对夫妻，其中18对夫妻共赴死亡，21对夫妻一起好了下来。\n",
    "\n",
    "而另54对夫妻中，他们在生死的抉择中都选择让妻子活下来。**问世间情为何物，直教人生死相许！**"
   ]
  }
 ],
 "metadata": {
  "kernelspec": {
   "display_name": "Python 3",
   "language": "python",
   "name": "python3"
  },
  "language_info": {
   "codemirror_mode": {
    "name": "ipython",
    "version": 3
   },
   "file_extension": ".py",
   "mimetype": "text/x-python",
   "name": "python",
   "nbconvert_exporter": "python",
   "pygments_lexer": "ipython3",
   "version": "3.6.1"
  },
  "toc": {
   "colors": {
    "hover_highlight": "#DAA520",
    "navigate_num": "#000000",
    "navigate_text": "#333333",
    "running_highlight": "#FF0000",
    "selected_highlight": "#FFD700",
    "sidebar_border": "#EEEEEE",
    "wrapper_background": "#FFFFFF"
   },
   "moveMenuLeft": true,
   "nav_menu": {
    "height": "47px",
    "width": "252px"
   },
   "navigate_menu": true,
   "number_sections": true,
   "sideBar": true,
   "threshold": 4,
   "toc_cell": false,
   "toc_section_display": "block",
   "toc_window_display": false,
   "widenNotebook": false
  }
 },
 "nbformat": 4,
 "nbformat_minor": 2
}
